
{
 "cells": [
  {
   "cell_type": "markdown",
   "metadata": {},
   "source": [
    "# Intrusion Detection System (IDS)\n",
    "Βασισμένο στο dataset [pcap_data.csv](https://github.com/kdemertzis/EKPA/blob/main/Data/pcap_data.csv)\n",
    "και το πρότυπο κώδικα του αρχείου `IDS_example.py`. Τρέχει στο Google Colab."
   ]
  },
  {
   "cell_type": "code",
   "execution_count": null,
   "metadata": {},
   "outputs": [],
   "source": [
    "# Εγκατάσταση και imports\n",
    "!pip install tensorflow\n",
    "import pandas as pd\n",
    "import numpy as np\n",
    "import matplotlib.pyplot as plt\n",
    "from sklearn.model_selection import train_test_split\n",
    "from sklearn.metrics import confusion_matrix, ConfusionMatrixDisplay\n",
    "from sklearn.utils import class_weight\n",
    "from tensorflow.keras.utils import to_categorical\n",
    "from tensorflow.keras.models import Sequential\n",
    "from tensorflow.keras.layers import Dense, Conv1D, GlobalMaxPooling1D, Dropout\n",
    "from tensorflow.keras.callbacks import ModelCheckpoint, EarlyStopping"
   ]
  },
  {
   "cell_type": "code",
   "execution_count": null,
   "metadata": {},
   "outputs": [],
   "source": [
    "# Φόρτωση dataset από GitHub\n",
    "url = 'https://raw.githubusercontent.com/kdemertzis/EKPA/main/Data/pcap_data.csv'\n",
    "df = pd.read_csv(url)\n",
    "df = df.dropna()\n",
    "df = df[df['Label'] != 'DrDoS_LDAP']\n",
    "df = df.sample(frac=1, random_state=42)\n",
    "labels = df['Label'].copy()"
   ]
  },
  {
   "cell_type": "code",
   "execution_count": null,
   "metadata": {},
   "outputs": [],
   "source": [
    "# Χαρτογράφηση ετικετών σε αριθμούς\n",
    "label_map = {'WebDDoS':0, 'BENIGN':1, 'UDP-lag':2, 'DrDoS_NTP':3, 'Syn':4,\n",
    "             'DrDoS_SSDP':5, 'DrDoS_UDP':6, 'DrDoS_NetBIOS':7, 'DrDoS_MSSQL':8,\n",
    "             'DrDoS_SNMP':9, 'TFTP':10, 'DrDoS_DNS':11}\n",
    "df['Label'] = df['Label'].map(label_map)\n",
    "y = df['Label'].values\n",
    "X = df.drop(columns=['Label']).values\n",
    "# Κανονικοποίηση\n",
    "X = (X - X.min(axis=0)) / (X.max(axis=0) - X.min(axis=0))"
   ]
  },
  {
   "cell_type": "code",
   "execution_count": null,
   "metadata": {},
   "outputs": [],
   "source": [
    "# Split δεδομένων\n",
    "X_train, X_temp, y_train, y_temp = train_test_split(X, y, test_size=0.2, stratify=y, random_state=42)\n",
    "X_val, X_test, y_val, y_test = train_test_split(X_temp, y_temp, test_size=0.5, stratify=y_temp)\n",
    "y_train_cat = to_categorical(y_train, num_classes=12)\n",
    "y_val_cat = to_categorical(y_val, num_classes=12)\n",
    "y_test_cat = to_categorical(y_test, num_classes=12)"
   ]
  },
  {
   "cell_type": "code",
   "execution_count": null,
   "metadata": {},
   "outputs": [],
   "source": [
    "# Μοντέλο Conv1D\n",
    "model = Sequential()\n",
    "model.add(Conv1D(64, 3, activation='relu', input_shape=(X.shape[1], 1)))\n",
    "model.add(GlobalMaxPooling1D())\n",
    "model.add(Dropout(0.3))\n",
    "model.add(Dense(64, activation='relu'))\n",
    "model.add(Dense(12, activation='softmax'))\n",
    "model.compile(optimizer='adam', loss='categorical_crossentropy', metrics=['accuracy'])"
   ]
  },
  {
   "cell_type": "code",
   "execution_count": null,
   "metadata": {},
   "outputs": [],
   "source": [
    "# Εκπαίδευση\n",
    "history = model.fit(X_train[..., np.newaxis], y_train_cat, epochs=30, batch_size=256,\n",
    "                    validation_data=(X_val[..., np.newaxis], y_val_cat),\n",
    "                    callbacks=[EarlyStopping(patience=10, restore_best_weights=True)])"
   ]
  },
  {
   "cell_type": "code",
   "execution_count": null,
   "metadata": {},
   "outputs": [],
   "source": [
    "# Confusion Matrix\n",
    "pred = model.predict(X_test[..., np.newaxis])\n",
    "y_pred = pred.argmax(axis=1)\n",
    "cm = confusion_matrix(y_test, y_pred)\n",
    "disp = ConfusionMatrixDisplay(confusion_matrix=cm, display_labels=label_map.keys())\n",
    "disp.plot(xticks_rotation=45, cmap='Blues')\n",
    "plt.show()"
   ]
  }
 ],
 "metadata": {
  "colab": {
   "provenance": []
  },
  "kernelspec": {
   "display_name": "Python 3",
   "language": "python",
   "name": "python3"
  },
  "language_info": {
   "name": "python",
   "version": "3.10"
  }
 },
 "nbformat": 4,
 "nbformat_minor": 5
}
